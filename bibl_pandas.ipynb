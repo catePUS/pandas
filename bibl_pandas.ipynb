{
 "cells": [
  {
   "cell_type": "markdown",
   "metadata": {},
   "source": [
    "## Домашнее задание\n",
    "\n",
    "Задание 1\n",
    "Скачайте с сайта https://grouplens.org/datasets/movielens/ датасет любого размера. Определите какому фильму было выставлено больше всего оценок 5.0.\n",
    "\n",
    "Задание 2\n",
    "По данным файла power.csv посчитайте суммарное потребление стран Прибалтики (Латвия, Литва и Эстония) категорий 4, 12 и 21 за период с 2005 по 2010 года. Не учитывайте в расчетах отрицательные значения quantity.\n",
    "\n",
    "Задание 3\n",
    "Выберите страницу любого сайта с табличными данными. Импортируйте таблицы в pandas dataframe.\n",
    "Примеры страниц (необязательно брать именно эти):\n",
    "https://fortrader.org/quotes\n",
    "https://www.finanz.ru/valyuty/v-realnom-vremeni"
   ]
  },
  {
   "cell_type": "code",
   "execution_count": 1,
   "metadata": {},
   "outputs": [],
   "source": [
    "import pandas as pd"
   ]
  },
  {
   "cell_type": "code",
   "execution_count": 2,
   "metadata": {},
   "outputs": [
    {
     "data": {
      "text/html": [
       "<div>\n",
       "<style scoped>\n",
       "    .dataframe tbody tr th:only-of-type {\n",
       "        vertical-align: middle;\n",
       "    }\n",
       "\n",
       "    .dataframe tbody tr th {\n",
       "        vertical-align: top;\n",
       "    }\n",
       "\n",
       "    .dataframe thead th {\n",
       "        text-align: right;\n",
       "    }\n",
       "</style>\n",
       "<table border=\"1\" class=\"dataframe\">\n",
       "  <thead>\n",
       "    <tr style=\"text-align: right;\">\n",
       "      <th></th>\n",
       "      <th>movieId</th>\n",
       "      <th>rating</th>\n",
       "    </tr>\n",
       "  </thead>\n",
       "  <tbody>\n",
       "    <tr>\n",
       "      <th>0</th>\n",
       "      <td>318.0</td>\n",
       "      <td>153</td>\n",
       "    </tr>\n",
       "  </tbody>\n",
       "</table>\n",
       "</div>"
      ],
      "text/plain": [
       "   movieId  rating\n",
       "0    318.0     153"
      ]
     },
     "execution_count": 2,
     "metadata": {},
     "output_type": "execute_result"
    }
   ],
   "source": [
    "table =  pd.read_csv('ml-latest-small/ratings.csv')\n",
    "table_1=table.where(table['rating']==5).groupby('movieId').count().sort_values('rating', ascending=False).head()\n",
    "movies = pd.read_csv('ml-latest-small/movies.csv')\n",
    "table_2=table_1.merge(movies, on='movieId', how='left')\n",
    "table_2[['movieId', 'rating']].head(1)"
   ]
  },
  {
   "cell_type": "code",
   "execution_count": 21,
   "metadata": {},
   "outputs": [
    {
     "name": "stderr",
     "output_type": "stream",
     "text": [
      "<ipython-input-21-8603c441a528>:5: UserWarning: Boolean Series key will be reindexed to match DataFrame index.\n",
      "  filtr_country_cat = filtr_country_year[(filtr_country.category==21)|(filtr_country.category==4)|(filtr_country.category==12)]\n"
     ]
    },
    {
     "data": {
      "text/plain": [
       "240580.0"
      ]
     },
     "execution_count": 21,
     "metadata": {},
     "output_type": "execute_result"
    }
   ],
   "source": [
    "import pandas as pd\n",
    "tabl = pd.read_csv('power.csv')\n",
    "filtr_country =tabl[(tabl['country']=='Latvia')|(tabl['country']=='Lithuania')|(tabl['country']=='Estonia')]\n",
    "filtr_country_year = filtr_country[(filtr_country.year>=2005)&(filtr_country.year<=2010)]\n",
    "filtr_country_cat = filtr_country_year[(filtr_country.category==21)|(filtr_country.category==4)|(filtr_country.category==12)]\n",
    "sum_quantity = filtr_country_cat[filtr_country_cat.quantity>0]\n",
    "total = sum_quantity['quantity'].sum()\n",
    "total"
   ]
  },
  {
   "cell_type": "code",
   "execution_count": 24,
   "metadata": {},
   "outputs": [
    {
     "data": {
      "text/plain": [
       "[    Код  Количество                 Название       RUB  Изменение\n",
       " 0   USD           1               Доллар США   73.4580    -0.0157\n",
       " 1   EUR           1                     Евро   89.6555    -0.2837\n",
       " 2   CNY           1           Китайский юань   11.5208     0.0326\n",
       " 3   GBP           1          Фунт стерлингов  103.8549    -0.0957\n",
       " 4   TJS          10        Таджикский сомони   64.4086    -0.0138\n",
       " 5   KZT         100      Казахстанский тенге   17.1289    -0.0457\n",
       " 6   TRY          10            Турецкая лира   87.1491     0.1722\n",
       " 7   PLN           1          Польский злотый   19.9479    -0.1006\n",
       " 8   UAH          10        Украинская гривна   26.7026     0.0371\n",
       " 9   BYN           1        Белорусский рубль   29.1269    -0.1899\n",
       " 10  UZS       10000            Узбекский сум   69.2353    -0.0694\n",
       " 11  KGS         100           Киргизский сом   88.4606     0.2344\n",
       " 12  AMD         100           Армянский драм   14.1081    -0.0065\n",
       " 13  JPY         100            Японская иена   67.3525    -0.1506\n",
       " 14  CHF           1        Швейцарский франк   81.9569    -0.1183\n",
       " 15  CZK          10            Чешская крона   35.2553    -0.0499\n",
       " 16  CAD           1         Канадский доллар   60.6840    -0.1587\n",
       " 17  AZN           1    Азербайджанский манат   43.2360    -0.0093\n",
       " 18  KRW        1000     Вон Республики Корея   65.7987     0.0201\n",
       " 19  SEK          10           Шведская крона   88.5474    -0.1086\n",
       " 20  INR          10          Индийская рупия   10.1140     0.0051\n",
       " 21  HUF         100        Венгерский форинт   25.7224    -0.0109\n",
       " 22  NOK          10         Норвежская крона   87.9989    -0.3438\n",
       " 23  AUD           1     Австралийский доллар   56.9667    -0.2179\n",
       " 24  BGN           1           Болгарский лев   45.8625    -0.1391\n",
       " 25  MDL          10           Молдавский лей   41.7256    -0.0327\n",
       " 26  DKK           1            Датская крона   12.0631    -0.0353\n",
       " 27  SGD           1      Сингапурский доллар   55.5238    -0.0077\n",
       " 28  RON           1            Румынский лей   18.2409    -0.0275\n",
       " 29  BRL           1         Бразильский реал   13.8284     0.0489\n",
       " 30  TMT           1  Новый туркменский манат   21.0180    -0.0045\n",
       " 31  XDR           1                      СДР  106.2504     0.0008\n",
       " 32  ZAR          10     Южноафриканский рэнд   53.6734     0.5621]"
      ]
     },
     "execution_count": 24,
     "metadata": {},
     "output_type": "execute_result"
    }
   ],
   "source": [
    "import pandas as pd\n",
    "pd.read_html('https://fortrader.org/currencyrates', encoding='utf-8')"
   ]
  },
  {
   "cell_type": "code",
   "execution_count": null,
   "metadata": {},
   "outputs": [],
   "source": []
  }
 ],
 "metadata": {
  "kernelspec": {
   "display_name": "Python 3",
   "language": "python",
   "name": "python3"
  },
  "language_info": {
   "codemirror_mode": {
    "name": "ipython",
    "version": 3
   },
   "file_extension": ".py",
   "mimetype": "text/x-python",
   "name": "python",
   "nbconvert_exporter": "python",
   "pygments_lexer": "ipython3",
   "version": "3.8.5"
  }
 },
 "nbformat": 4,
 "nbformat_minor": 4
}
